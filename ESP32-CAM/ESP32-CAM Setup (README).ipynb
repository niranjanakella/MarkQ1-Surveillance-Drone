{
 "cells": [
  {
   "cell_type": "markdown",
   "metadata": {},
   "source": [
    "# ESP32-CAM Module Setup "
   ]
  },
  {
   "cell_type": "markdown",
   "metadata": {},
   "source": [
    "### Introduction"
   ]
  },
  {
   "cell_type": "markdown",
   "metadata": {},
   "source": [
    "The ESP32-CAM module is a low power 802.11b/g/n WiFi BT SoC module. It consists of clock speeds upto 160MHz and summary computing power up to 600 DMIPS."
   ]
  },
  {
   "cell_type": "markdown",
   "metadata": {},
   "source": [
    "### Power Supply"
   ]
  },
  {
   "cell_type": "markdown",
   "metadata": {},
   "source": [
    "The module is connnected via the **+5V & GND** in-ports to the **+5V & GND** out-ports of the *KK2.1.5* Module"
   ]
  },
  {
   "cell_type": "markdown",
   "metadata": {},
   "source": [
    "### Live Feed Mechanism"
   ]
  },
  {
   "cell_type": "markdown",
   "metadata": {},
   "source": [
    "The live feed from the module is streamed by creating a *Hotspot* on an external device to which the ESP-32CAM module is connected as a client. Before directly implementing the module, initially the module has to be given a specifig '**SSID**' & '**Password**' of a particular Host device to which the module can stream. \n",
    "\n",
    "Supply power to the device and wait until the module connects to the specified host network.\n",
    "Then Press the **RESET** button on the module to receive the *IP Address* of the module with respect to the host network which can later be used to view the stream. \n",
    "Set the IP as the static IP on the module."
   ]
  },
  {
   "cell_type": "markdown",
   "metadata": {},
   "source": [
    "`static IPAddress gateway(192,168,x,x);\n",
    "static IPAddress subnet(255,255,0,0);\n",
    "static IPAddress primaryDNS(8,8,8,8);\n",
    "static IPAddress secondaryDNS(8,8,4,4);`"
   ]
  },
  {
   "cell_type": "markdown",
   "metadata": {},
   "source": [
    "#### Why not create a hotspot on ESP-32CAM module to connect directly ?"
   ]
  },
  {
   "cell_type": "markdown",
   "metadata": {},
   "source": [
    "There are many high power devices which can effect the transmition [Electromagnetic Spectrum]. And a small fluctuation in the transmission field can lead to immense noise during the Demodulation of the transmitted BaseBand signal.\n",
    "\n",
    "And the module doesn't have any network security protocols which makes it vulnerable to air attacks from hackers. But on the other hand a Smartphone or a laptop has minimum grade of network security associated with them."
   ]
  }
 ],
 "metadata": {
  "kernelspec": {
   "display_name": "Python 3",
   "language": "python",
   "name": "python3"
  },
  "language_info": {
   "codemirror_mode": {
    "name": "ipython",
    "version": 3
   },
   "file_extension": ".py",
   "mimetype": "text/x-python",
   "name": "python",
   "nbconvert_exporter": "python",
   "pygments_lexer": "ipython3",
   "version": "3.7.7"
  }
 },
 "nbformat": 4,
 "nbformat_minor": 4
}
